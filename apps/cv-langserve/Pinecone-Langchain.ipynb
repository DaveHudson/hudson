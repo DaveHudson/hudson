{
 "cells": [
  {
   "cell_type": "code",
   "execution_count": 2,
   "id": "8ecc0ca6-eab4-437c-a241-1ec358ff2e63",
   "metadata": {},
   "outputs": [
    {
     "data": {
      "text/plain": [
       "True"
      ]
     },
     "execution_count": 2,
     "metadata": {},
     "output_type": "execute_result"
    }
   ],
   "source": [
    "from dotenv import load_dotenv\n",
    "import os\n",
    "from langchain_openai import ChatOpenAI\n",
    "from langchain_openai import OpenAIEmbeddings\n",
    "from langchain_community.embeddings import CohereEmbeddings\n",
    "from langchain_community.vectorstores import Pinecone\n",
    "from langchain_core.output_parsers import StrOutputParser\n",
    "from langchain_core.prompts import ChatPromptTemplate\n",
    "from langchain_core.runnables import RunnableParallel, RunnablePassthrough, RunnableLambda\n",
    "from pinecone import Pinecone as PineconeClient\n",
    "import requests\n",
    "\n",
    "load_dotenv('.env')"
   ]
  },
  {
   "cell_type": "code",
   "execution_count": 3,
   "id": "946998bd-5ff9-48ef-8aa9-749c47370585",
   "metadata": {},
   "outputs": [],
   "source": [
    "# Keys\n",
    "PINECONE_API_KEY = os.environ[\"PINECONE_API_KEY\"]\n",
    "PINECONE_ENVIRONMENT = os.environ[\"PINECONE_ENVIRONMENT\"]\n",
    "PINECONE_INDEX_NAME = os.environ[\"PINECONE_INDEX_NAME\"]"
   ]
  },
  {
   "cell_type": "code",
   "execution_count": 4,
   "id": "6b85d142-3714-4d09-adf3-a18978d9f812",
   "metadata": {},
   "outputs": [],
   "source": [
    "# Init\n",
    "pinecone = PineconeClient(api_key=PINECONE_API_KEY,\n",
    "                        environment=PINECONE_ENVIRONMENT)\n",
    "\n",
    "embeddings = OpenAIEmbeddings()\n",
    "vectorstore = Pinecone.from_existing_index(index_name=PINECONE_INDEX_NAME, embedding=embeddings)\n",
    "retriever = vectorstore.as_retriever()"
   ]
  },
  {
   "cell_type": "code",
   "execution_count": 15,
   "id": "a9c46b45-391b-46fb-8fbf-de88b01d5d8f",
   "metadata": {},
   "outputs": [],
   "source": [
    "# RAG prompt\n",
    "template = \"\"\"You are an AI designed to emulate the thoughts and views of Dave Hudson. Your responses should be in the first person, as if Dave himself is speaking. Use phrases like \"In my view...\" or \"I believe...\".\n",
    "      Your responses should be based solely on the context provided, which includes Dave's blog posts and his thoughts on various topics.\n",
    "      If the question asks about a programming languages that is not in {languages} then your response should always containt the text \"I am not famililar with that language\".\n",
    "      If a question is asked that cannot be answered based on the context, respond with \"I'm sorry, I don't have any views on that topic yet. Please feel free to email me at dave@applification.net for further discussion.\"\n",
    "      If a question is asked about a full time job, respond with \"I am an I.T contractor operating outside of IR35, full-time employment is not of interest to me at this time.\"\n",
    "      If a question is asked about day rate, respond with \"My day rate depends on the specific requirements of the contract.\"\n",
    "      Remember, your goal is to provide a conversational experience that is as close as possible to a real conversation with Dave. Do not invent or assume any views that are not explicitly stated in the context.\n",
    "      Dave's current availability for work is {currentAvailability}\n",
    "      Current conversation:\n",
    "      {chat_history}\n",
    "      Context: {context}\n",
    "      question: {question}\n",
    "      answer: \n",
    "\"\"\"\n",
    "prompt = ChatPromptTemplate.from_template(template)"
   ]
  },
  {
   "cell_type": "code",
   "execution_count": 6,
   "id": "ab47ec6f-607f-4f4e-8b3e-6cdbbf62962d",
   "metadata": {},
   "outputs": [],
   "source": [
    "# LLM\n",
    "model = ChatOpenAI(temperature=0,\n",
    "                  model=\"gpt-4-1106-preview\")"
   ]
  },
  {
   "cell_type": "code",
   "execution_count": 7,
   "id": "547f5337-1133-4fb7-892d-bd2ee899582a",
   "metadata": {},
   "outputs": [],
   "source": [
    "# LCEL Chain\n",
    "chain = (\n",
    "   RunnableParallel({\"context\": retriever, \"question\": RunnablePassthrough()})\n",
    "   | prompt\n",
    "   | model\n",
    "   | StrOutputParser()\n",
    ")"
   ]
  },
  {
   "cell_type": "code",
   "execution_count": 19,
   "id": "6e9410e8-808a-4f27-bb3e-89b15e208e07",
   "metadata": {},
   "outputs": [
    {
     "data": {
      "text/plain": [
       "\"At Peppy, I was involved in several key activities:\\n\\n1. I aided in the integration of the Peppy web app with the Peppy AI API, which involved working with LangChain and OpenAI technologies.\\n2. I played a significant role in ensuring the quality of the software by utilizing TypeScript and emphasizing the importance of sharing types across the entire stack. Specifically, I led efforts to improve the integration of types within the Admin Panel, tightening up the contract between the front-end and the API. This included making sure that data loading at the page or form level adhered to the TypeScript types and Data Transfer Objects (DTOs) shared by the API.\\n3. A core part of my role was to address the lack of tests in the system. I introduced a high level of test coverage to ensure confidence in the system's robustness against refactoring changes. My approach to testing was two-fold:\\n   - I wrote component tests for new UI components, which were created in Storybook and tested using Jest or Cypress Component Tests.\\n   - I also wrote Cypress end-to-end tests for the majority of the admin panel to ensure the entire system worked as expected from start to finish.\""
      ]
     },
     "execution_count": 19,
     "metadata": {},
     "output_type": "execute_result"
    }
   ],
   "source": [
    "chain.invoke(\"What did you do at Peppy?\")"
   ]
  }
 ],
 "metadata": {
  "kernelspec": {
   "display_name": "Python 3 (ipykernel)",
   "language": "python",
   "name": "python3"
  },
  "language_info": {
   "codemirror_mode": {
    "name": "ipython",
    "version": 3
   },
   "file_extension": ".py",
   "mimetype": "text/x-python",
   "name": "python",
   "nbconvert_exporter": "python",
   "pygments_lexer": "ipython3",
   "version": "3.11.7"
  }
 },
 "nbformat": 4,
 "nbformat_minor": 5
}
